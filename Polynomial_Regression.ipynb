{
  "nbformat": 4,
  "nbformat_minor": 0,
  "metadata": {
    "colab": {
      "name": "Polynomial Regression.ipynb",
      "private_outputs": true,
      "provenance": [],
      "collapsed_sections": []
    },
    "kernelspec": {
      "name": "python3",
      "display_name": "Python 3"
    },
    "language_info": {
      "name": "python"
    }
  },
  "cells": [
    {
      "cell_type": "code",
      "metadata": {
        "id": "Dww-B4QUqfgO"
      },
      "source": [
        "import pandas as pd\n",
        "import numpy as np\n",
        "import matplotlib.pyplot as plt\n",
        "import seaborn as sns\n",
        "%matplotlib inline\n",
        "%config InlineBackend.figure_format='retina'"
      ],
      "execution_count": null,
      "outputs": []
    },
    {
      "cell_type": "code",
      "metadata": {
        "id": "i7wWGsHQqY21"
      },
      "source": [
        "from google.colab import drive\n",
        "drive.mount('/content/drive')"
      ],
      "execution_count": null,
      "outputs": []
    },
    {
      "cell_type": "code",
      "metadata": {
        "id": "k0-kUBmOqdqx"
      },
      "source": [
        "url = '/content/drive/MyDrive/Basic-dataset/basic-dataset-master/worldbank_gdp_gini_birth_death_suicide_rate.csv'"
      ],
      "execution_count": null,
      "outputs": []
    },
    {
      "cell_type": "code",
      "metadata": {
        "id": "Uk1pvJ-JrZUL"
      },
      "source": [
        "data=pd.read_csv(url)"
      ],
      "execution_count": null,
      "outputs": []
    },
    {
      "cell_type": "code",
      "metadata": {
        "id": "Bb2tFOJ5rdvc"
      },
      "source": [
        "data.sample(10)"
      ],
      "execution_count": null,
      "outputs": []
    },
    {
      "cell_type": "code",
      "metadata": {
        "id": "fyRxmOg4rhc2"
      },
      "source": [
        "data.info()"
      ],
      "execution_count": null,
      "outputs": []
    },
    {
      "cell_type": "markdown",
      "metadata": {
        "id": "rmPxhRpervrV"
      },
      "source": [
        "**1.1 filter and visualize country data**"
      ]
    },
    {
      "cell_type": "code",
      "metadata": {
        "id": "5_Gs9IudrkRR"
      },
      "source": [
        "data[data['country'].str.contains('Thailand')]"
      ],
      "execution_count": null,
      "outputs": []
    },
    {
      "cell_type": "code",
      "metadata": {
        "id": "7t7BEqSTsAxC"
      },
      "source": [
        "x_col = 'year'\n",
        "y_col = 'Death rate, crude (per 1,000 people)'\n",
        "country = 'Thailand'"
      ],
      "execution_count": null,
      "outputs": []
    },
    {
      "cell_type": "code",
      "metadata": {
        "id": "E8Rgl6RvsXYO"
      },
      "source": [
        "df = data[data['country']==country].copy()\n",
        "df"
      ],
      "execution_count": null,
      "outputs": []
    },
    {
      "cell_type": "code",
      "metadata": {
        "id": "5dkNiTwXskBD"
      },
      "source": [
        "sns.lmplot(x=x_col,y=y_col,data=df,fit_reg=True,\n",
        "           scatter_kws={'alpha': .2,'color':'green'},\n",
        "           line_kws={'color':'salmon'});"
      ],
      "execution_count": null,
      "outputs": []
    },
    {
      "cell_type": "code",
      "metadata": {
        "id": "lgUKvvxptAw0"
      },
      "source": [
        "import sklearn as sk\n",
        "from sklearn.model_selection import train_test_split\n",
        "from sklearn.preprocessing import PolynomialFeatures\n",
        "from sklearn.linear_model import LinearRegression"
      ],
      "execution_count": null,
      "outputs": []
    },
    {
      "cell_type": "code",
      "metadata": {
        "id": "ToZT0NLRujsP"
      },
      "source": [
        "x = df[[x_col]]\n",
        "y = df[[y_col]]"
      ],
      "execution_count": null,
      "outputs": []
    },
    {
      "cell_type": "code",
      "metadata": {
        "id": "CWXJXKYqupiH"
      },
      "source": [
        "test_size=.2\n",
        "x_train, x_test, y_train, y_test = train_test_split(x,y,test_size=test_size,random_state=1)"
      ],
      "execution_count": null,
      "outputs": []
    },
    {
      "cell_type": "markdown",
      "metadata": {
        "id": "e3lddJCBvMjT"
      },
      "source": [
        "**Linear regression**"
      ]
    },
    {
      "cell_type": "code",
      "metadata": {
        "id": "EXmNKea8vK6r"
      },
      "source": [
        "lm = LinearRegression()\n",
        "lm"
      ],
      "execution_count": null,
      "outputs": []
    },
    {
      "cell_type": "code",
      "metadata": {
        "id": "RzDj5FVnvY1r"
      },
      "source": [
        "lm.fit(x_train,y_train)"
      ],
      "execution_count": null,
      "outputs": []
    },
    {
      "cell_type": "code",
      "metadata": {
        "id": "1aY5trzKvd79"
      },
      "source": [
        "lm.score(x_train,y_train)"
      ],
      "execution_count": null,
      "outputs": []
    },
    {
      "cell_type": "code",
      "metadata": {
        "id": "CfacTAlEvimi"
      },
      "source": [
        "lm.coef_"
      ],
      "execution_count": null,
      "outputs": []
    },
    {
      "cell_type": "code",
      "metadata": {
        "id": "qB_nXRMovlnt"
      },
      "source": [
        "lm.intercept_"
      ],
      "execution_count": null,
      "outputs": []
    },
    {
      "cell_type": "code",
      "metadata": {
        "id": "SjQXFBXMvnTo"
      },
      "source": [
        "lm.score(x_test,y_test)"
      ],
      "execution_count": null,
      "outputs": []
    },
    {
      "cell_type": "code",
      "metadata": {
        "id": "3OBMi6oCvwKT"
      },
      "source": [
        "fig=plt.figure(figsize=(10,6))\n",
        "plt.scatter(x,y,color='green',alpha=.2)\n",
        "plt.plot(x,lm.predict(x), color = 'red',alpha=.5)\n",
        "plt.title('Linear Regression')\n",
        "plt.xlabel(x_col)\n",
        "plt.ylabel(y_col)"
      ],
      "execution_count": null,
      "outputs": []
    },
    {
      "cell_type": "code",
      "metadata": {
        "id": "9sJyO_EIwfHw"
      },
      "source": [
        "lm.predict([[1990],[2021]])"
      ],
      "execution_count": null,
      "outputs": []
    },
    {
      "cell_type": "markdown",
      "metadata": {
        "id": "e7u3X_Bmw49Q"
      },
      "source": [
        "**Polynomial Regression**"
      ]
    },
    {
      "cell_type": "code",
      "metadata": {
        "id": "xKT3RxA6w1jB"
      },
      "source": [
        "poly_reg = PolynomialFeatures(degree=6)"
      ],
      "execution_count": null,
      "outputs": []
    },
    {
      "cell_type": "code",
      "metadata": {
        "id": "jtrr5WTCxHyo"
      },
      "source": [
        "poly_reg.fit_transform([[1990]])"
      ],
      "execution_count": null,
      "outputs": []
    },
    {
      "cell_type": "code",
      "metadata": {
        "id": "5b2_81tQxXW_"
      },
      "source": [
        "v = 1990\n",
        "v**0,v**1,v**2"
      ],
      "execution_count": null,
      "outputs": []
    },
    {
      "cell_type": "code",
      "metadata": {
        "id": "yYTy5mCAxmLb"
      },
      "source": [
        "x_train_poly = poly_reg.fit_transform(x_train)\n",
        "x_test_poly  = poly_reg.fit_transform(x_test)"
      ],
      "execution_count": null,
      "outputs": []
    },
    {
      "cell_type": "code",
      "metadata": {
        "id": "4wHcTx4Qx_fb"
      },
      "source": [
        "pm = LinearRegression()\n",
        "pm.fit(x_train_poly,y_train)"
      ],
      "execution_count": null,
      "outputs": []
    },
    {
      "cell_type": "code",
      "metadata": {
        "id": "hdOUsl8dyTRq"
      },
      "source": [
        "pm.score(x_train_poly, y_train)"
      ],
      "execution_count": null,
      "outputs": []
    },
    {
      "cell_type": "code",
      "metadata": {
        "id": "DRa8cPzPyYkA"
      },
      "source": [
        "pm.intercept_"
      ],
      "execution_count": null,
      "outputs": []
    },
    {
      "cell_type": "code",
      "metadata": {
        "id": "GMSkJ7xAyklU"
      },
      "source": [
        "pm.coef_"
      ],
      "execution_count": null,
      "outputs": []
    },
    {
      "cell_type": "code",
      "metadata": {
        "id": "kPrjuPC1ymXu"
      },
      "source": [
        "pm.score(x_test_poly, y_test)"
      ],
      "execution_count": null,
      "outputs": []
    },
    {
      "cell_type": "code",
      "metadata": {
        "id": "b3unu0xUy-69"
      },
      "source": [
        "pm.predict(x_train_poly[:3])"
      ],
      "execution_count": null,
      "outputs": []
    },
    {
      "cell_type": "code",
      "metadata": {
        "id": "i-VHupizzkws"
      },
      "source": [
        "fig=plt.figure(figsize=(10,6))\n",
        "plt.scatter(x,y,color='green',alpha=.2)\n",
        "plt.plot(x,pm.predict(poly_reg.fit_transform(x)), color = 'red',alpha=.5)\n",
        "plt.title('Polynomial Regression')\n",
        "plt.xlabel(x_col)\n",
        "plt.ylabel(y_col)"
      ],
      "execution_count": null,
      "outputs": []
    },
    {
      "cell_type": "code",
      "metadata": {
        "id": "HK78Jr0o0GF0"
      },
      "source": [
        "fig=plt.figure(figsize=(8*2,5))\n",
        "d = {'Linear Regression':lm.predict(x),\n",
        "     'Polynomial Regression':pm.predict(poly_reg.fit_transform(x))}\n",
        "i = 1\n",
        "for title, y_pred in d.items():\n",
        "  fig.add_subplot(1,2,i)\n",
        "  plt.scatter(x,y,color='green',alpha=.2)\n",
        "  plt.plot(x,y_pred,color ='red',alpha=.5)\n",
        "  plt.title(title)\n",
        "  plt.xlabel(x_col)\n",
        "  plt.ylabel(y_col)\n",
        "  i+=1"
      ],
      "execution_count": null,
      "outputs": []
    },
    {
      "cell_type": "code",
      "metadata": {
        "id": "CyfOEF6b1aKw"
      },
      "source": [
        ""
      ],
      "execution_count": null,
      "outputs": []
    }
  ]
}